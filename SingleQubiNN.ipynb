{
  "nbformat": 4,
  "nbformat_minor": 0,
  "metadata": {
    "colab": {
      "provenance": [],
      "gpuType": "T4",
      "authorship_tag": "ABX9TyM8/6DlugIcRzGMHyvGGd+h",
      "include_colab_link": true
    },
    "kernelspec": {
      "name": "python3",
      "display_name": "Python 3"
    },
    "language_info": {
      "name": "python"
    },
    "accelerator": "GPU"
  },
  "cells": [
    {
      "cell_type": "markdown",
      "metadata": {
        "id": "view-in-github",
        "colab_type": "text"
      },
      "source": [
        "<a href=\"https://colab.research.google.com/github/datdiego/qubit_dyamics/blob/main/SingleQubiNN.ipynb\" target=\"_parent\"><img src=\"https://colab.research.google.com/assets/colab-badge.svg\" alt=\"Open In Colab\"/></a>"
      ]
    },
    {
      "cell_type": "code",
      "execution_count": null,
      "metadata": {
        "id": "RwRzAhJmaWQw"
      },
      "outputs": [],
      "source": [
        "import pandas as pd\n",
        "import torch\n",
        "from torch.utils.data import DataLoader, Dataset\n",
        "import torch.nn as nn\n",
        "import torch.optim as optim\n",
        "import numpy as np"
      ]
    },
    {
      "cell_type": "code",
      "source": [
        "# Load data\n",
        "from google.colab import drive\n",
        "drive.mount('/content/drive')"
      ],
      "metadata": {
        "colab": {
          "base_uri": "https://localhost:8080/"
        },
        "id": "MzOzX3BgalQV",
        "outputId": "cdbc25f4-fd89-497a-f2a4-31e5e4e78769"
      },
      "execution_count": null,
      "outputs": [
        {
          "output_type": "stream",
          "name": "stdout",
          "text": [
            "Mounted at /content/drive\n"
          ]
        }
      ]
    },
    {
      "cell_type": "code",
      "source": [
        "df = pd.read_csv(\"/content/drive/MyDrive/quantum/dataset/fields_500_opt.csv\")"
      ],
      "metadata": {
        "id": "hzOXCEP2anPt"
      },
      "execution_count": null,
      "outputs": []
    },
    {
      "cell_type": "code",
      "source": [
        "# Normalize inputs\n",
        "df['theta'] /= (2 * np.pi)  # Normalize θ to [0, 1]\n",
        "df['phi'] /= (2 * np.pi)    # Normalize φ to [0, 1]\n",
        "\n",
        "# Prepare inputs and outputs\n",
        "inputs = df[['theta', 'phi', 'time']].values\n",
        "outputs = df[['u_x', 'u_y', 'u_z', 'sigmax_expect', 'sigmay_expect', 'sigmaz_expect']].values\n",
        "\n",
        "t_list = np.linspace(0, 1, 100)  # Time grid over 1 second"
      ],
      "metadata": {
        "id": "Pl40DBQQatnb",
        "colab": {
          "base_uri": "https://localhost:8080/",
          "height": 211
        },
        "outputId": "c6097480-11e3-4e07-bf89-65e9bcfa6fd8"
      },
      "execution_count": null,
      "outputs": [
        {
          "output_type": "error",
          "ename": "NameError",
          "evalue": "name 'df' is not defined",
          "traceback": [
            "\u001b[0;31m---------------------------------------------------------------------------\u001b[0m",
            "\u001b[0;31mNameError\u001b[0m                                 Traceback (most recent call last)",
            "\u001b[0;32m<ipython-input-1-6fb30e7b7442>\u001b[0m in \u001b[0;36m<cell line: 2>\u001b[0;34m()\u001b[0m\n\u001b[1;32m      1\u001b[0m \u001b[0;31m# Normalize inputs\u001b[0m\u001b[0;34m\u001b[0m\u001b[0;34m\u001b[0m\u001b[0m\n\u001b[0;32m----> 2\u001b[0;31m \u001b[0mdf\u001b[0m\u001b[0;34m[\u001b[0m\u001b[0;34m'theta'\u001b[0m\u001b[0;34m]\u001b[0m \u001b[0;34m/=\u001b[0m \u001b[0;34m(\u001b[0m\u001b[0;36m2\u001b[0m \u001b[0;34m*\u001b[0m \u001b[0mnp\u001b[0m\u001b[0;34m.\u001b[0m\u001b[0mpi\u001b[0m\u001b[0;34m)\u001b[0m  \u001b[0;31m# Normalize θ to [0, 1]\u001b[0m\u001b[0;34m\u001b[0m\u001b[0;34m\u001b[0m\u001b[0m\n\u001b[0m\u001b[1;32m      3\u001b[0m \u001b[0mdf\u001b[0m\u001b[0;34m[\u001b[0m\u001b[0;34m'phi'\u001b[0m\u001b[0;34m]\u001b[0m \u001b[0;34m/=\u001b[0m \u001b[0;34m(\u001b[0m\u001b[0;36m2\u001b[0m \u001b[0;34m*\u001b[0m \u001b[0mnp\u001b[0m\u001b[0;34m.\u001b[0m\u001b[0mpi\u001b[0m\u001b[0;34m)\u001b[0m    \u001b[0;31m# Normalize φ to [0, 1]\u001b[0m\u001b[0;34m\u001b[0m\u001b[0;34m\u001b[0m\u001b[0m\n\u001b[1;32m      4\u001b[0m \u001b[0;34m\u001b[0m\u001b[0m\n\u001b[1;32m      5\u001b[0m \u001b[0;31m# Prepare inputs and outputs\u001b[0m\u001b[0;34m\u001b[0m\u001b[0;34m\u001b[0m\u001b[0m\n",
            "\u001b[0;31mNameError\u001b[0m: name 'df' is not defined"
          ]
        }
      ]
    },
    {
      "cell_type": "code",
      "source": [
        "class PINNDataset(Dataset):\n",
        "    def __init__(self, inputs, outputs):\n",
        "        self.inputs = torch.tensor(inputs, dtype=torch.float32)\n",
        "        self.outputs = torch.tensor(outputs, dtype=torch.float32)\n",
        "\n",
        "    def __len__(self):\n",
        "        return len(self.inputs)\n",
        "\n",
        "    def __getitem__(self, idx):\n",
        "        return self.inputs[idx], self.outputs[idx]\n",
        "\n",
        "# Create dataset and dataloader\n",
        "dataset = PINNDataset(inputs, outputs)\n",
        "dataloader = DataLoader(dataset, batch_size=32, shuffle=True)\n"
      ],
      "metadata": {
        "id": "WOOw_r5Aau_D"
      },
      "execution_count": null,
      "outputs": []
    },
    {
      "cell_type": "code",
      "source": [
        "class QubiNN(nn.Module):\n",
        "    def __init__(self):\n",
        "        super(QubiNN, self).__init__()\n",
        "        self.fc1 = nn.Linear(3, 128)  # Input: θ, φ, t\n",
        "        self.fc2 = nn.Linear(128, 256)\n",
        "        self.fc3 = nn.Linear(256, 128)\n",
        "        self.fc4 = nn.Linear(128, 64)\n",
        "        self.fc_out = nn.Linear(64, 6)  # Output: u_x, u_y, u_z, ⟨σx⟩, ⟨σy⟩, ⟨σz⟩\n",
        "\n",
        "    def forward(self, x):\n",
        "        x = torch.relu(self.fc1(x))\n",
        "        x = torch.relu(self.fc2(x))\n",
        "        x = torch.relu(self.fc3(x))\n",
        "        x = torch.relu(self.fc4(x))\n",
        "        x = self.fc_out(x)\n",
        "        return x\n",
        "\n",
        "\n"
      ],
      "metadata": {
        "id": "slC-KSY6awMm"
      },
      "execution_count": null,
      "outputs": []
    },
    {
      "cell_type": "code",
      "source": [
        "# Training setup\n",
        "device = torch.device(\"cuda\" if torch.cuda.is_available() else \"cpu\")\n",
        "model = QubiNN().to(device)\n",
        "optimizer = torch.optim.Adam(model.parameters(), lr=0.001)\n",
        "criterion = nn.MSELoss()\n",
        "\n",
        "# Training loop\n",
        "epochs = 100\n",
        "for epoch in range(epochs):\n",
        "    model.train()\n",
        "    running_loss = 0.0\n",
        "    for inputs_batch, targets_batch in dataloader:\n",
        "        # Move data to device\n",
        "        inputs_batch, targets_batch = inputs_batch.to(device), targets_batch.to(device)\n",
        "\n",
        "        # Forward pass\n",
        "        predictions = model(inputs_batch)  # Shape: (batch_size, 6)\n",
        "\n",
        "        # Compute data loss\n",
        "        data_loss = criterion(predictions, targets_batch)\n",
        "\n",
        "        # Backpropagation and optimization\n",
        "        optimizer.zero_grad()\n",
        "        data_loss.backward()\n",
        "        optimizer.step()\n",
        "\n",
        "        running_loss += data_loss.item() * inputs_batch.size(0)\n",
        "\n",
        "    # Calculate average loss for the epoch\n",
        "    epoch_loss = running_loss / len(dataset)\n",
        "    print(f\"Epoch [{epoch+1}/{epochs}], Data Loss: {epoch_loss:.6f}\")\n"
      ],
      "metadata": {
        "id": "-iwS6lYKiKZs"
      },
      "execution_count": null,
      "outputs": []
    },
    {
      "cell_type": "code",
      "source": [
        "# Training loop\n",
        "#epochs = 100\n",
        "#for epoch in range(epochs):\n",
        "#    model.train()\n",
        "#    running_loss = 0.0\n",
        "#    for inputs_batch, targets_batch in dataloader:\n",
        "#        # Move data to device\n",
        "#        inputs_batch, targets_batch = inputs_batch.to(device), targets_batch.to(device)\n",
        "#\n",
        "#        # Forward pass\n",
        "#        predictions = model(inputs_batch)\n",
        "#\n",
        "#        # Compute loss\n",
        "#        loss = criterion(predictions, targets_batch)\n",
        "#\n",
        "#        # Backpropagation and optimization\n",
        "#        optimizer.zero_grad()\n",
        "#        loss.backward()\n",
        "#        optimizer.step()\n",
        "#\n",
        "#        running_loss += loss.item() * inputs_batch.size(0)\n",
        "#\n",
        "#    epoch_loss = running_loss / len(dataset)\n",
        "#    print(f\"Epoch [{epoch+1}/{epochs}], Loss: {epoch_loss:.6f}\")\n",
        "#"
      ],
      "metadata": {
        "id": "-QBj1JklazLl"
      },
      "execution_count": null,
      "outputs": []
    },
    {
      "cell_type": "code",
      "source": [
        "# Validation\n",
        "model.eval()\n",
        "with torch.no_grad():\n",
        "    for inputs_batch, targets_batch in dataloader:\n",
        "        inputs_batch, targets_batch = inputs_batch.to(device), targets_batch.to(device)\n",
        "        predictions = model(inputs_batch)\n",
        "        print(\"Predictions (first batch):\", predictions[:5].cpu().numpy())\n",
        "        print(\"Targets (first batch):\", targets_batch[:5].cpu().numpy())\n",
        "        break\n"
      ],
      "metadata": {
        "id": "m1XowqJCa0Uq"
      },
      "execution_count": null,
      "outputs": []
    },
    {
      "cell_type": "code",
      "source": [
        "!pip install qutip\n",
        "!pip install qutip-qtrl\n",
        "!pip install qutip-qip"
      ],
      "metadata": {
        "id": "QkmuXCwOa4HM"
      },
      "execution_count": null,
      "outputs": []
    },
    {
      "cell_type": "code",
      "source": [
        "import matplotlib.pyplot as plt\n",
        "import time\n",
        "import numpy as np\n",
        "from numpy import pi\n",
        "import qutip as qt\n",
        "import pandas as pd\n",
        "from qutip import *\n",
        "from qutip_qtrl import *\n",
        "from qutip_qip.operations import *\n",
        "from numpy import pi\n",
        "from qutip_qtrl.grape import plot_grape_control_fields, _overlap\n",
        "from qutip_qtrl.cy_grape import cy_overlap\n",
        "from qutip_qtrl.grape import cy_grape_unitary, grape_unitary_adaptive\n",
        "from scipy.interpolate import interp1d\n",
        "from qutip.ui.progressbar import TextProgressBar"
      ],
      "metadata": {
        "id": "jkGe1V-6a6GM"
      },
      "execution_count": null,
      "outputs": []
    },
    {
      "cell_type": "code",
      "source": [
        "start_time = time.time()\n",
        "# Define parameters\n",
        "num_time_slices = 100  # Number of time slices for each GRAPE run\n",
        "evo_time = 1.0  # Total evolution time\n",
        "t_list = np.linspace(0, evo_time, num_time_slices)  # Time range\n",
        "eps = 2 * np.pi / evo_time  # Epsilon scaling for GRAPE\n",
        "\n",
        "# Define Hamiltonian components\n",
        "H0 = 0 * np.pi * sigmaz()  # Drift Hamiltonian set to zero\n",
        "H_ops = [sigmax(), sigmay(), sigmaz()]  # Control operators for x, y, and z directions\n",
        "R =150\n",
        "\n",
        "# Define the initial state (always starting from |0⟩)\n",
        "psi0 = basis(2, 0)\n",
        "\n",
        "\n",
        "#theta_test = np.pi\n",
        "#phi_test = 0\n",
        "# random angles\n",
        "theta_test = np.random.uniform(0, 2 * np.pi)\n",
        "phi_test = np.random.uniform(0, 2 * np.pi)\n",
        "\n",
        "\n",
        "t_list = np.linspace(0, 1, 100)  # Time grid over 1 second\n",
        "\n",
        "U = rz(phi_test) * rx(theta_test); U\n",
        "\n",
        "# Initial guess for control fields with smoothing\n",
        "u0 = np.array([np.random.rand(len(t_list)) * 2 * np.pi * 0.005 for _ in range(len(H_ops))])\n",
        "u0 = [np.convolve(np.ones(10)/10, u0[idx, :], mode='same') for idx in range(len(H_ops))]\n",
        "\n",
        "# Run cy_grape_unitary to find the optimal control fields for reaching the target unitary\n",
        "result = cy_grape_unitary(\n",
        "    U, H0, H_ops, R, t_list, u_start=u0, eps=eps,\n",
        "        phase_sensitive=False\n",
        "    )\n",
        "\n",
        "# Solve for dynamics to get expectation values ⟨σx⟩, ⟨σy⟩, and ⟨σz⟩ over time\n",
        "e_ops = [sigmax(), sigmay(), sigmaz()]\n",
        "me_result = mesolve(result.H_t, psi0, t_list, c_ops=[], e_ops=e_ops)\n",
        "\n",
        "qutip_execution_time = time.time() - start_time\n",
        "print(f\"QuTiP execution time: {qutip_execution_time} seconds\")"
      ],
      "metadata": {
        "id": "5FEZpr_ua_4D"
      },
      "execution_count": null,
      "outputs": []
    },
    {
      "cell_type": "code",
      "source": [
        "b = Bloch()\n",
        "b.add_states(psi0)\n",
        "b.add_states(U*psi0)\n",
        "b.add_points(me_result.expect)\n",
        "b.show()"
      ],
      "metadata": {
        "id": "owW8i2hwbBi7"
      },
      "execution_count": null,
      "outputs": []
    },
    {
      "cell_type": "code",
      "source": [
        "# Extract QuTiP control fields and expectation values\n",
        "last_iteration_u = result.u[-1]\n",
        "qutip_control_fields = last_iteration_u   # Shape: (150, 3, 100)\n",
        "qutip_expectations = np.array(me_result.expect)  # Shape: (3, 100)"
      ],
      "metadata": {
        "id": "oVBi3SZ_bDTr"
      },
      "execution_count": null,
      "outputs": []
    },
    {
      "cell_type": "code",
      "source": [
        "print(\"Shape of QuTiP control fields:\", qutip_control_fields.shape) # (3, 100)\n",
        "print(\"Shape of QuTiP expectation values:\", qutip_expectations.shape) # (3, 100)"
      ],
      "metadata": {
        "id": "vSWziGVObg8F"
      },
      "execution_count": null,
      "outputs": []
    },
    {
      "cell_type": "code",
      "source": [
        "start_time = time.time()\n",
        "\n",
        "# Prepare inputs for the PINN\n",
        "theta_test_normalized = theta_test / (2 * np.pi)  # Normalize θ\n",
        "phi_test_normalized = phi_test / (2 * np.pi)      # Normalize φ\n",
        "pinn_inputs = np.array([[theta_test_normalized, phi_test_normalized, t] for t in t_list], dtype=np.float32)\n",
        "\n",
        "# Convert inputs to PyTorch tensor\n",
        "pinn_inputs_tensor = torch.tensor(pinn_inputs, device=device)\n",
        "\n",
        "# Predict using the PINN\n",
        "model.eval()\n",
        "with torch.no_grad():\n",
        "    pinn_outputs = model(pinn_inputs_tensor).cpu().numpy()  # Shape: (100, 6)\n",
        "\n",
        "pinn_execution_time = time.time() - start_time\n",
        "print(f\"PINN execution time: {pinn_execution_time} seconds\")"
      ],
      "metadata": {
        "id": "Ht27pLPkbVPz"
      },
      "execution_count": null,
      "outputs": []
    },
    {
      "cell_type": "code",
      "source": [
        "# Calculate speedup\n",
        "speedup = qutip_execution_time / pinn_execution_time\n",
        "\n",
        "# Print speedup\n",
        "print(f\"Speedup of PINN over QuTiP Simulation: {speedup:.2f}x\")"
      ],
      "metadata": {
        "id": "YM5miItFflae",
        "colab": {
          "base_uri": "https://localhost:8080/",
          "height": 211
        },
        "outputId": "7dfefceb-fa31-41d2-f125-51e3d5ef9c86"
      },
      "execution_count": null,
      "outputs": [
        {
          "output_type": "error",
          "ename": "NameError",
          "evalue": "name 'qutip_execution_time' is not defined",
          "traceback": [
            "\u001b[0;31m---------------------------------------------------------------------------\u001b[0m",
            "\u001b[0;31mNameError\u001b[0m                                 Traceback (most recent call last)",
            "\u001b[0;32m<ipython-input-2-74143cc4fb60>\u001b[0m in \u001b[0;36m<cell line: 2>\u001b[0;34m()\u001b[0m\n\u001b[1;32m      1\u001b[0m \u001b[0;31m# Calculate speedup\u001b[0m\u001b[0;34m\u001b[0m\u001b[0;34m\u001b[0m\u001b[0m\n\u001b[0;32m----> 2\u001b[0;31m \u001b[0mspeedup\u001b[0m \u001b[0;34m=\u001b[0m \u001b[0mqutip_execution_time\u001b[0m \u001b[0;34m/\u001b[0m \u001b[0mpinn_execution_time\u001b[0m\u001b[0;34m\u001b[0m\u001b[0;34m\u001b[0m\u001b[0m\n\u001b[0m\u001b[1;32m      3\u001b[0m \u001b[0;34m\u001b[0m\u001b[0m\n\u001b[1;32m      4\u001b[0m \u001b[0;31m# Print speedup\u001b[0m\u001b[0;34m\u001b[0m\u001b[0;34m\u001b[0m\u001b[0m\n\u001b[1;32m      5\u001b[0m \u001b[0mprint\u001b[0m\u001b[0;34m(\u001b[0m\u001b[0;34mf\"Speedup of PINN over QuTiP Simulation: {speedup:.2f}x\"\u001b[0m\u001b[0;34m)\u001b[0m\u001b[0;34m\u001b[0m\u001b[0;34m\u001b[0m\u001b[0m\n",
            "\u001b[0;31mNameError\u001b[0m: name 'qutip_execution_time' is not defined"
          ]
        }
      ]
    },
    {
      "cell_type": "code",
      "source": [
        "\n",
        "# Extract control fields and expectation values\n",
        "pinn_control_fields = pinn_outputs[:, :3].T  # u_x, u_y, u_z (Shape: (3, 100))\n",
        "pinn_expectations = pinn_outputs[:, 3:].T    # ⟨σx⟩, ⟨σy⟩, ⟨σz⟩ (Shape: (3, 100))"
      ],
      "metadata": {
        "id": "MvWAOHKadGCm"
      },
      "execution_count": null,
      "outputs": []
    },
    {
      "cell_type": "code",
      "source": [
        "import matplotlib.pyplot as plt\n",
        "\n",
        "expectations = ['⟨σx⟩', '⟨σy⟩', '⟨σz⟩']\n",
        "for i, label in enumerate(expectations):\n",
        "    plt.figure(figsize=(8, 6))\n",
        "    plt.plot(t_list, qutip_expectations[i], label=f'QuTiP {label}', linestyle='--')\n",
        "    plt.plot(t_list, pinn_expectations[i], label=f'PINN {label}', linestyle='-')\n",
        "    plt.xlabel('Time (s)')\n",
        "    plt.ylabel(label)\n",
        "    plt.title(f'Comparison of {label} Over Time')\n",
        "    plt.legend()\n",
        "    plt.show()\n"
      ],
      "metadata": {
        "id": "vGr7wS6KdJEF"
      },
      "execution_count": null,
      "outputs": []
    },
    {
      "cell_type": "code",
      "source": [
        "fields = ['u_x', 'u_y', 'u_z']\n",
        "for i, field in enumerate(fields):\n",
        "    plt.figure(figsize=(8, 6))\n",
        "    plt.plot(t_list, qutip_control_fields[i], label=f'QuTiP {field}', linestyle='--')\n",
        "    plt.plot(t_list, pinn_control_fields[i], label=f'PINN {field}', linestyle='-')\n",
        "    plt.xlabel('Time (s)')\n",
        "    plt.ylabel(field)\n",
        "    # set y limit\n",
        "    plt.ylim(-2 , 2)\n",
        "\n",
        "    plt.title(f'Comparison of {field} Over Time')\n",
        "    plt.legend()\n",
        "    plt.show()\n"
      ],
      "metadata": {
        "id": "axSAj2OzdKJ9",
        "colab": {
          "base_uri": "https://localhost:8080/",
          "height": 211
        },
        "outputId": "34111db7-3aef-4935-f74c-958e30dcb392"
      },
      "execution_count": null,
      "outputs": [
        {
          "output_type": "error",
          "ename": "NameError",
          "evalue": "name 'plt' is not defined",
          "traceback": [
            "\u001b[0;31m---------------------------------------------------------------------------\u001b[0m",
            "\u001b[0;31mNameError\u001b[0m                                 Traceback (most recent call last)",
            "\u001b[0;32m<ipython-input-3-909361f4fb63>\u001b[0m in \u001b[0;36m<cell line: 2>\u001b[0;34m()\u001b[0m\n\u001b[1;32m      1\u001b[0m \u001b[0mfields\u001b[0m \u001b[0;34m=\u001b[0m \u001b[0;34m[\u001b[0m\u001b[0;34m'u_x'\u001b[0m\u001b[0;34m,\u001b[0m \u001b[0;34m'u_y'\u001b[0m\u001b[0;34m,\u001b[0m \u001b[0;34m'u_z'\u001b[0m\u001b[0;34m]\u001b[0m\u001b[0;34m\u001b[0m\u001b[0;34m\u001b[0m\u001b[0m\n\u001b[1;32m      2\u001b[0m \u001b[0;32mfor\u001b[0m \u001b[0mi\u001b[0m\u001b[0;34m,\u001b[0m \u001b[0mfield\u001b[0m \u001b[0;32min\u001b[0m \u001b[0menumerate\u001b[0m\u001b[0;34m(\u001b[0m\u001b[0mfields\u001b[0m\u001b[0;34m)\u001b[0m\u001b[0;34m:\u001b[0m\u001b[0;34m\u001b[0m\u001b[0;34m\u001b[0m\u001b[0m\n\u001b[0;32m----> 3\u001b[0;31m     \u001b[0mplt\u001b[0m\u001b[0;34m.\u001b[0m\u001b[0mfigure\u001b[0m\u001b[0;34m(\u001b[0m\u001b[0mfigsize\u001b[0m\u001b[0;34m=\u001b[0m\u001b[0;34m(\u001b[0m\u001b[0;36m8\u001b[0m\u001b[0;34m,\u001b[0m \u001b[0;36m6\u001b[0m\u001b[0;34m)\u001b[0m\u001b[0;34m)\u001b[0m\u001b[0;34m\u001b[0m\u001b[0;34m\u001b[0m\u001b[0m\n\u001b[0m\u001b[1;32m      4\u001b[0m     \u001b[0mplt\u001b[0m\u001b[0;34m.\u001b[0m\u001b[0mplot\u001b[0m\u001b[0;34m(\u001b[0m\u001b[0mt_list\u001b[0m\u001b[0;34m,\u001b[0m \u001b[0mqutip_control_fields\u001b[0m\u001b[0;34m[\u001b[0m\u001b[0mi\u001b[0m\u001b[0;34m]\u001b[0m\u001b[0;34m,\u001b[0m \u001b[0mlabel\u001b[0m\u001b[0;34m=\u001b[0m\u001b[0;34mf'QuTiP {field}'\u001b[0m\u001b[0;34m,\u001b[0m \u001b[0mlinestyle\u001b[0m\u001b[0;34m=\u001b[0m\u001b[0;34m'--'\u001b[0m\u001b[0;34m)\u001b[0m\u001b[0;34m\u001b[0m\u001b[0;34m\u001b[0m\u001b[0m\n\u001b[1;32m      5\u001b[0m     \u001b[0mplt\u001b[0m\u001b[0;34m.\u001b[0m\u001b[0mplot\u001b[0m\u001b[0;34m(\u001b[0m\u001b[0mt_list\u001b[0m\u001b[0;34m,\u001b[0m \u001b[0mpinn_control_fields\u001b[0m\u001b[0;34m[\u001b[0m\u001b[0mi\u001b[0m\u001b[0;34m]\u001b[0m\u001b[0;34m,\u001b[0m \u001b[0mlabel\u001b[0m\u001b[0;34m=\u001b[0m\u001b[0;34mf'PINN {field}'\u001b[0m\u001b[0;34m,\u001b[0m \u001b[0mlinestyle\u001b[0m\u001b[0;34m=\u001b[0m\u001b[0;34m'-'\u001b[0m\u001b[0;34m)\u001b[0m\u001b[0;34m\u001b[0m\u001b[0;34m\u001b[0m\u001b[0m\n",
            "\u001b[0;31mNameError\u001b[0m: name 'plt' is not defined"
          ]
        }
      ]
    },
    {
      "cell_type": "code",
      "source": [
        "# Create Bloch sphere for QuTiP data\n",
        "b_qutip = Bloch()\n",
        "b_qutip.add_points([qutip_expectations[0], qutip_expectations[1], qutip_expectations[2]], meth='l')\n",
        "b_qutip.show()"
      ],
      "metadata": {
        "id": "OaJPVTRVdMJD"
      },
      "execution_count": null,
      "outputs": []
    },
    {
      "cell_type": "code",
      "source": [
        "b_qutip.add_points([pinn_expectations[0], pinn_expectations[1], pinn_expectations[2]], meth='l')\n",
        "b_qutip.show()"
      ],
      "metadata": {
        "id": "IZxVk2evdP0Z"
      },
      "execution_count": null,
      "outputs": []
    },
    {
      "cell_type": "code",
      "source": [
        "from sklearn.metrics import mean_squared_error\n",
        "\n",
        "# MSE for expectation values\n",
        "mse_sigmax = mean_squared_error(qutip_expectations[0], pinn_expectations[0])\n",
        "mse_sigmay = mean_squared_error(qutip_expectations[1], pinn_expectations[1])\n",
        "mse_sigmaz = mean_squared_error(qutip_expectations[2], pinn_expectations[2])\n",
        "\n",
        "print(f\"MSE for ⟨σx⟩: {mse_sigmax:.6f}\")\n",
        "print(f\"MSE for ⟨σy⟩: {mse_sigmay:.6f}\")\n",
        "print(f\"MSE for ⟨σz⟩: {mse_sigmaz:.6f}\")\n",
        "\n",
        "# MSE for control fields\n",
        "mse_ux = mean_squared_error(qutip_control_fields[0], pinn_control_fields[0])\n",
        "mse_uy = mean_squared_error(qutip_control_fields[1], pinn_control_fields[1])\n",
        "mse_uz = mean_squared_error(qutip_control_fields[2], pinn_control_fields[2])\n",
        "\n",
        "print(f\"MSE for u_x: {mse_ux:.6f}\")\n",
        "print(f\"MSE for u_y: {mse_uy:.6f}\")\n",
        "print(f\"MSE for u_z: {mse_uz:.6f}\")\n"
      ],
      "metadata": {
        "id": "a1hyGpwzdS-C"
      },
      "execution_count": null,
      "outputs": []
    },
    {
      "cell_type": "code",
      "source": [
        "# save model\n",
        "torch.save(model.state_dict(), 'qubi_nn_model_11-15.pth')"
      ],
      "metadata": {
        "id": "faKEZ_iYVeZd"
      },
      "execution_count": null,
      "outputs": []
    },
    {
      "cell_type": "code",
      "source": [
        "def calculate_density_matrix(sigma_x, sigma_y, sigma_z):\n",
        "    \"\"\"\n",
        "    Calculate the density matrix from expectation values.\n",
        "\n",
        "    Parameters:\n",
        "        sigma_x (float): Expectation value of ⟨σx⟩.\n",
        "        sigma_y (float): Expectation value of ⟨σy⟩.\n",
        "        sigma_z (float): Expectation value of ⟨σz⟩.\n",
        "\n",
        "    Returns:\n",
        "        numpy.ndarray: The density matrix (2x2).\n",
        "    \"\"\"\n",
        "    rho = np.array([\n",
        "        [1 + sigma_z, sigma_x - 1j * sigma_y],\n",
        "        [sigma_x + 1j * sigma_y, 1 - sigma_z]\n",
        "    ]) / 2\n",
        "    return rho"
      ],
      "metadata": {
        "id": "4DlHb1zYXZs7"
      },
      "execution_count": null,
      "outputs": []
    },
    {
      "cell_type": "code",
      "source": [
        "# calculate rho of the last expected values of the pinn\n",
        "rho = calculate_density_matrix(pinn_expectations[0][-1], pinn_expectations[1][-1], pinn_expectations[2][-1])\n",
        "\n",
        "# convert to qutip object\n",
        "rho_qutip = Qobj(rho)"
      ],
      "metadata": {
        "id": "Qu6IJlJQXbT5"
      },
      "execution_count": null,
      "outputs": []
    },
    {
      "cell_type": "code",
      "source": [
        "f = fidelity(rho_qutip, U*psi0)\n",
        "print(f)"
      ],
      "metadata": {
        "colab": {
          "base_uri": "https://localhost:8080/",
          "height": 158
        },
        "id": "neDZUuxpXdkN",
        "outputId": "5c84572d-3ecc-47f9-8ff9-4357f30bd0d1"
      },
      "execution_count": null,
      "outputs": [
        {
          "output_type": "error",
          "ename": "NameError",
          "evalue": "name 'fidelity' is not defined",
          "traceback": [
            "\u001b[0;31m---------------------------------------------------------------------------\u001b[0m",
            "\u001b[0;31mNameError\u001b[0m                                 Traceback (most recent call last)",
            "\u001b[0;32m<ipython-input-4-f3d346f3e390>\u001b[0m in \u001b[0;36m<cell line: 1>\u001b[0;34m()\u001b[0m\n\u001b[0;32m----> 1\u001b[0;31m \u001b[0mf\u001b[0m \u001b[0;34m=\u001b[0m \u001b[0mfidelity\u001b[0m\u001b[0;34m(\u001b[0m\u001b[0mrho_qutip\u001b[0m\u001b[0;34m,\u001b[0m \u001b[0mU\u001b[0m\u001b[0;34m*\u001b[0m\u001b[0mpsi0\u001b[0m\u001b[0;34m)\u001b[0m\u001b[0;34m\u001b[0m\u001b[0;34m\u001b[0m\u001b[0m\n\u001b[0m\u001b[1;32m      2\u001b[0m \u001b[0mprint\u001b[0m\u001b[0;34m(\u001b[0m\u001b[0mf\u001b[0m\u001b[0;34m)\u001b[0m\u001b[0;34m\u001b[0m\u001b[0;34m\u001b[0m\u001b[0m\n",
            "\u001b[0;31mNameError\u001b[0m: name 'fidelity' is not defined"
          ]
        }
      ]
    },
    {
      "cell_type": "code",
      "source": [
        "# prompt: vizualize the model with torchviz\n",
        "\n",
        "!pip install torchviz\n",
        "\n",
        "import torchviz\n",
        "\n",
        "# Assuming your model is named 'model' and you have an example input\n",
        "# Replace with your actual input\n",
        "example_input = torch.randn(1, 3).to(device)\n",
        "\n",
        "# Visualize the model\n",
        "torchviz.make_dot(model(example_input), params=dict(model.named_parameters()))"
      ],
      "metadata": {
        "id": "l6O45b8AYpW0"
      },
      "execution_count": null,
      "outputs": []
    }
  ]
}